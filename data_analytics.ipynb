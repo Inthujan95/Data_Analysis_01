{
 "cells": [
  {
   "cell_type": "markdown",
   "id": "ebd09dd1",
   "metadata": {},
   "source": [
    "## Numpy"
   ]
  },
  {
   "cell_type": "code",
   "execution_count": 1,
   "id": "033a2062",
   "metadata": {},
   "outputs": [
    {
     "name": "stdout",
     "output_type": "stream",
     "text": [
      "Collecting numpy\n",
      "  Downloading numpy-2.3.2-cp313-cp313-win_amd64.whl.metadata (60 kB)\n",
      "Downloading numpy-2.3.2-cp313-cp313-win_amd64.whl (12.8 MB)\n",
      "   ---------------------------------------- 0.0/12.8 MB ? eta -:--:--\n",
      "   -- ------------------------------------- 0.8/12.8 MB 7.2 MB/s eta 0:00:02\n",
      "   ---------- ----------------------------- 3.4/12.8 MB 15.9 MB/s eta 0:00:01\n",
      "   ------------------ --------------------- 5.8/12.8 MB 11.0 MB/s eta 0:00:01\n",
      "   ------------------------- -------------- 8.1/12.8 MB 12.3 MB/s eta 0:00:01\n",
      "   ----------------------------------- ---- 11.3/12.8 MB 11.8 MB/s eta 0:00:01\n",
      "   ---------------------------------------- 12.8/12.8 MB 11.3 MB/s eta 0:00:00\n",
      "Installing collected packages: numpy\n",
      "Successfully installed numpy-2.3.2\n"
     ]
    },
    {
     "name": "stderr",
     "output_type": "stream",
     "text": [
      "\n",
      "[notice] A new release of pip is available: 24.2 -> 25.2\n",
      "[notice] To update, run: python.exe -m pip install --upgrade pip\n"
     ]
    }
   ],
   "source": [
    "!pip install numpy"
   ]
  },
  {
   "cell_type": "code",
   "execution_count": 10,
   "id": "d8be9246",
   "metadata": {},
   "outputs": [
    {
     "name": "stdout",
     "output_type": "stream",
     "text": [
      "(2, 5)\n"
     ]
    }
   ],
   "source": [
    "import numpy as np\n",
    "\n",
    "arr1 = np.array([[1,2,3,4,5],[1,2,3,4,5]])\n",
    "\n",
    "#print(type(arr1))\n",
    "\n",
    "print(arr1.shape)"
   ]
  },
  {
   "cell_type": "code",
   "execution_count": 11,
   "id": "9af5071d",
   "metadata": {},
   "outputs": [
    {
     "data": {
      "text/plain": [
       "array([0, 2, 4, 6, 8])"
      ]
     },
     "execution_count": 11,
     "metadata": {},
     "output_type": "execute_result"
    }
   ],
   "source": [
    "np.arange(0,10,2)"
   ]
  },
  {
   "cell_type": "code",
   "execution_count": 12,
   "id": "26497bd8",
   "metadata": {},
   "outputs": [
    {
     "data": {
      "text/plain": [
       "array([[0],\n",
       "       [2],\n",
       "       [4],\n",
       "       [6],\n",
       "       [8]])"
      ]
     },
     "execution_count": 12,
     "metadata": {},
     "output_type": "execute_result"
    }
   ],
   "source": [
    "np.arange(0,10,2).reshape(5,1)"
   ]
  },
  {
   "cell_type": "code",
   "execution_count": null,
   "id": "78c17676",
   "metadata": {},
   "outputs": [
    {
     "name": "stdout",
     "output_type": "stream",
     "text": [
      "(5,)\n"
     ]
    }
   ],
   "source": [
    "arr1 = np.array([1,2,3,4,5])\n",
    "\n",
    "print(arr1.shape)"
   ]
  },
  {
   "cell_type": "code",
   "execution_count": 16,
   "id": "892701e6",
   "metadata": {},
   "outputs": [
    {
     "data": {
      "text/plain": [
       "array([[1., 1., 1., 1.],\n",
       "       [1., 1., 1., 1.],\n",
       "       [1., 1., 1., 1.]])"
      ]
     },
     "execution_count": 16,
     "metadata": {},
     "output_type": "execute_result"
    }
   ],
   "source": [
    "np.ones((3,4))"
   ]
  },
  {
   "cell_type": "code",
   "execution_count": 17,
   "id": "d1a5a6ff",
   "metadata": {},
   "outputs": [
    {
     "data": {
      "text/plain": [
       "array([ 4,  6,  8, 10, 12])"
      ]
     },
     "execution_count": 17,
     "metadata": {},
     "output_type": "execute_result"
    }
   ],
   "source": [
    "arr1 = np.array([1,2,3,4,5])\n",
    "arr2 = np.array([3,4,5,6,7])\n",
    "\n",
    "arr1+arr2"
   ]
  },
  {
   "cell_type": "code",
   "execution_count": 18,
   "id": "d53d0f06",
   "metadata": {},
   "outputs": [
    {
     "data": {
      "text/plain": [
       "np.float64(4.0)"
      ]
     },
     "execution_count": 18,
     "metadata": {},
     "output_type": "execute_result"
    }
   ],
   "source": [
    "np.sqrt(16)"
   ]
  },
  {
   "cell_type": "code",
   "execution_count": 20,
   "id": "4c59ed1d",
   "metadata": {},
   "outputs": [
    {
     "data": {
      "text/plain": [
       "np.float64(2.0)"
      ]
     },
     "execution_count": 20,
     "metadata": {},
     "output_type": "execute_result"
    }
   ],
   "source": [
    "np.sqrt(4)"
   ]
  },
  {
   "cell_type": "code",
   "execution_count": 19,
   "id": "81906469",
   "metadata": {},
   "outputs": [
    {
     "data": {
      "text/plain": [
       "np.int64(16)"
      ]
     },
     "execution_count": 19,
     "metadata": {},
     "output_type": "execute_result"
    }
   ],
   "source": [
    "np.square(4)"
   ]
  },
  {
   "cell_type": "code",
   "execution_count": 21,
   "id": "47b5c78a",
   "metadata": {},
   "outputs": [
    {
     "data": {
      "text/plain": [
       "array([  2.71828183,   7.3890561 ,  20.08553692,  54.59815003,\n",
       "       148.4131591 ])"
      ]
     },
     "execution_count": 21,
     "metadata": {},
     "output_type": "execute_result"
    }
   ],
   "source": [
    "np.exp(arr1)"
   ]
  },
  {
   "cell_type": "code",
   "execution_count": 23,
   "id": "910a9431",
   "metadata": {},
   "outputs": [
    {
     "data": {
      "text/plain": [
       "array([ 0.84147098,  0.90929743,  0.14112001, -0.7568025 , -0.95892427])"
      ]
     },
     "execution_count": 23,
     "metadata": {},
     "output_type": "execute_result"
    }
   ],
   "source": [
    "np.sin(arr1)"
   ]
  },
  {
   "cell_type": "code",
   "execution_count": 24,
   "id": "2ce6dc5a",
   "metadata": {},
   "outputs": [
    {
     "data": {
      "text/plain": [
       "array([ 0.54030231, -0.41614684, -0.9899925 , -0.65364362,  0.28366219])"
      ]
     },
     "execution_count": 24,
     "metadata": {},
     "output_type": "execute_result"
    }
   ],
   "source": [
    "np.cos(arr1)"
   ]
  },
  {
   "cell_type": "code",
   "execution_count": 30,
   "id": "93c41bc0",
   "metadata": {},
   "outputs": [
    {
     "data": {
      "text/plain": [
       "np.int64(1)"
      ]
     },
     "execution_count": 30,
     "metadata": {},
     "output_type": "execute_result"
    }
   ],
   "source": [
    "arr1 = np.array([[1,2,3,4,5],[4,5,6,7,8]])\n",
    "arr2 = np.array([3,4,5,6,7])\n",
    "\n",
    "arr1[0][0]"
   ]
  },
  {
   "cell_type": "code",
   "execution_count": 32,
   "id": "30016150",
   "metadata": {},
   "outputs": [
    {
     "data": {
      "text/plain": [
       "np.int64(4)"
      ]
     },
     "execution_count": 32,
     "metadata": {},
     "output_type": "execute_result"
    }
   ],
   "source": [
    "arr1 = np.array([[1,2,3,4,5],[4,5,6,7,8]])\n",
    "arr2 = np.array([3,4,5,6,7])\n",
    "\n",
    "arr1[0][3]"
   ]
  },
  {
   "cell_type": "code",
   "execution_count": 34,
   "id": "52664a61",
   "metadata": {},
   "outputs": [
    {
     "data": {
      "text/plain": [
       "np.int64(66)"
      ]
     },
     "execution_count": 34,
     "metadata": {},
     "output_type": "execute_result"
    }
   ],
   "source": [
    "arr1 = np.array([[1,2,3,4,5],[4,5,6,7,8],[7,8,9,0,66]])\n",
    "arr2 = np.array([3,4,5,6,7])\n",
    "\n",
    "arr1[2][4]"
   ]
  },
  {
   "cell_type": "code",
   "execution_count": 35,
   "id": "91356117",
   "metadata": {},
   "outputs": [
    {
     "name": "stdout",
     "output_type": "stream",
     "text": [
      "Collecting pandas\n",
      "  Downloading pandas-2.3.1-cp313-cp313-win_amd64.whl.metadata (19 kB)\n",
      "Requirement already satisfied: numpy>=1.26.0 in c:\\users\\nixsala\\desktop\\data_analysis\\venv\\lib\\site-packages (from pandas) (2.3.2)\n",
      "Requirement already satisfied: python-dateutil>=2.8.2 in c:\\users\\nixsala\\desktop\\data_analysis\\venv\\lib\\site-packages (from pandas) (2.9.0.post0)\n",
      "Collecting pytz>=2020.1 (from pandas)\n",
      "  Using cached pytz-2025.2-py2.py3-none-any.whl.metadata (22 kB)\n",
      "Collecting tzdata>=2022.7 (from pandas)\n",
      "  Using cached tzdata-2025.2-py2.py3-none-any.whl.metadata (1.4 kB)\n",
      "Requirement already satisfied: six>=1.5 in c:\\users\\nixsala\\desktop\\data_analysis\\venv\\lib\\site-packages (from python-dateutil>=2.8.2->pandas) (1.17.0)\n",
      "Downloading pandas-2.3.1-cp313-cp313-win_amd64.whl (11.0 MB)\n",
      "   ---------------------------------------- 0.0/11.0 MB ? eta -:--:--\n",
      "   ---------------------------------------- 0.0/11.0 MB ? eta -:--:--\n",
      "   --- ------------------------------------ 1.0/11.0 MB 4.9 MB/s eta 0:00:03\n",
      "   ---------------- ----------------------- 4.5/11.0 MB 12.8 MB/s eta 0:00:01\n",
      "   ------------------ --------------------- 5.0/11.0 MB 8.4 MB/s eta 0:00:01\n",
      "   --------------------- ------------------ 6.0/11.0 MB 7.5 MB/s eta 0:00:01\n",
      "   --------------------------- ------------ 7.6/11.0 MB 7.2 MB/s eta 0:00:01\n",
      "   --------------------------------- ------ 9.2/11.0 MB 7.5 MB/s eta 0:00:01\n",
      "   ---------------------------------------- 11.0/11.0 MB 8.1 MB/s eta 0:00:00\n",
      "Using cached pytz-2025.2-py2.py3-none-any.whl (509 kB)\n",
      "Using cached tzdata-2025.2-py2.py3-none-any.whl (347 kB)\n",
      "Installing collected packages: pytz, tzdata, pandas\n",
      "Successfully installed pandas-2.3.1 pytz-2025.2 tzdata-2025.2\n"
     ]
    },
    {
     "name": "stderr",
     "output_type": "stream",
     "text": [
      "\n",
      "[notice] A new release of pip is available: 24.2 -> 25.2\n",
      "[notice] To update, run: python.exe -m pip install --upgrade pip\n"
     ]
    }
   ],
   "source": [
    "!pip install pandas"
   ]
  },
  {
   "cell_type": "markdown",
   "id": "ad11fa64",
   "metadata": {},
   "source": [
    "## pandas - powerful library for data manipulation. widely used for data analytics"
   ]
  },
  {
   "cell_type": "code",
   "execution_count": 36,
   "id": "34061bfc",
   "metadata": {},
   "outputs": [],
   "source": [
    "import pandas as pd"
   ]
  },
  {
   "cell_type": "code",
   "execution_count": 38,
   "id": "c02aa300",
   "metadata": {},
   "outputs": [
    {
     "name": "stdout",
     "output_type": "stream",
     "text": [
      "0    1\n",
      "1    2\n",
      "2    3\n",
      "3    4\n",
      "4    5\n",
      "dtype: int64\n"
     ]
    }
   ],
   "source": [
    "data = [1,2,3,4,5]\n",
    "series =pd.Series(data)\n",
    "print(series)"
   ]
  },
  {
   "cell_type": "code",
   "execution_count": 39,
   "id": "dcd95622",
   "metadata": {},
   "outputs": [
    {
     "name": "stdout",
     "output_type": "stream",
     "text": [
      "one      1\n",
      "two      2\n",
      "three    3\n",
      "dtype: int64\n"
     ]
    }
   ],
   "source": [
    "dictionary = {\"one\":1, \"two\":2, \"three\":3 }\n",
    "\n",
    "print(pd.Series(dictionary))"
   ]
  },
  {
   "cell_type": "code",
   "execution_count": 46,
   "id": "ffd5742b",
   "metadata": {},
   "outputs": [
    {
     "name": "stdout",
     "output_type": "stream",
     "text": [
      "     name  age  VoteID\n",
      "0  ramesh   20       0\n",
      "1    babu   35       1\n",
      "2  suresh   40       3\n",
      "3    bala   35       5\n"
     ]
    }
   ],
   "source": [
    "data1 = {\n",
    "    \"name\":[\"ramesh\",\"babu\",\"suresh\",\"bala\"],\n",
    "    \"age\":[20,35,40,35],\n",
    "    \"VoteID\":[0,1,3,5],\n",
    "}\n",
    "\n",
    "print(pd.DataFrame(data1))"
   ]
  },
  {
   "cell_type": "markdown",
   "id": "8f7ee691",
   "metadata": {},
   "source": [
    "## Reading varoius source data using pandas"
   ]
  },
  {
   "cell_type": "code",
   "execution_count": 49,
   "id": "397dc0ae",
   "metadata": {},
   "outputs": [
    {
     "name": "stdout",
     "output_type": "stream",
     "text": [
      "    name                  email            Role\n",
      "0  inthu  inthujanjan@gmail.com  AI MI Engineer\n"
     ]
    },
    {
     "name": "stderr",
     "output_type": "stream",
     "text": [
      "C:\\Users\\Nixsala\\AppData\\Local\\Temp\\ipykernel_3468\\572170618.py:3: FutureWarning: Passing literal json to 'read_json' is deprecated and will be removed in a future version. To read from a literal string, wrap it in a 'StringIO' object.\n",
      "  df1 = pd.read_json(data2)\n"
     ]
    }
   ],
   "source": [
    "data2 = '[{\"name\":\"inthu\",\"email\":\"inthujanjan@gmail.com\",\"Role\":\"AI MI Engineer\"}]'\n",
    "\n",
    "df1 = pd.read_json(data2)\n",
    "print(df1)"
   ]
  },
  {
   "cell_type": "code",
   "execution_count": 50,
   "id": "f80ad8cf",
   "metadata": {},
   "outputs": [
    {
     "data": {
      "text/html": [
       "<div>\n",
       "<style scoped>\n",
       "    .dataframe tbody tr th:only-of-type {\n",
       "        vertical-align: middle;\n",
       "    }\n",
       "\n",
       "    .dataframe tbody tr th {\n",
       "        vertical-align: top;\n",
       "    }\n",
       "\n",
       "    .dataframe thead th {\n",
       "        text-align: right;\n",
       "    }\n",
       "</style>\n",
       "<table border=\"1\" class=\"dataframe\">\n",
       "  <thead>\n",
       "    <tr style=\"text-align: right;\">\n",
       "      <th></th>\n",
       "      <th>name</th>\n",
       "      <th>email</th>\n",
       "      <th>Role</th>\n",
       "    </tr>\n",
       "  </thead>\n",
       "  <tbody>\n",
       "    <tr>\n",
       "      <th>0</th>\n",
       "      <td>inthu</td>\n",
       "      <td>inthujanjan@gmail.com</td>\n",
       "      <td>AI MI Engineer</td>\n",
       "    </tr>\n",
       "  </tbody>\n",
       "</table>\n",
       "</div>"
      ],
      "text/plain": [
       "    name                  email            Role\n",
       "0  inthu  inthujanjan@gmail.com  AI MI Engineer"
      ]
     },
     "execution_count": 50,
     "metadata": {},
     "output_type": "execute_result"
    }
   ],
   "source": [
    "df1"
   ]
  },
  {
   "cell_type": "code",
   "execution_count": 60,
   "id": "b633807b",
   "metadata": {},
   "outputs": [
    {
     "name": "stdout",
     "output_type": "stream",
     "text": [
      "Requirement already satisfied: openpyxl in c:\\users\\nixsala\\desktop\\data_analysis\\venv\\lib\\site-packages (3.1.5)\n",
      "Requirement already satisfied: et-xmlfile in c:\\users\\nixsala\\desktop\\data_analysis\\venv\\lib\\site-packages (from openpyxl) (2.0.0)\n"
     ]
    },
    {
     "name": "stderr",
     "output_type": "stream",
     "text": [
      "\n",
      "[notice] A new release of pip is available: 24.2 -> 25.2\n",
      "[notice] To update, run: python.exe -m pip install --upgrade pip\n"
     ]
    }
   ],
   "source": [
    "!pip install openpyxl"
   ]
  },
  {
   "cell_type": "code",
   "execution_count": 61,
   "id": "a834c381",
   "metadata": {},
   "outputs": [
    {
     "data": {
      "text/html": [
       "<div>\n",
       "<style scoped>\n",
       "    .dataframe tbody tr th:only-of-type {\n",
       "        vertical-align: middle;\n",
       "    }\n",
       "\n",
       "    .dataframe tbody tr th {\n",
       "        vertical-align: top;\n",
       "    }\n",
       "\n",
       "    .dataframe thead th {\n",
       "        text-align: right;\n",
       "    }\n",
       "</style>\n",
       "<table border=\"1\" class=\"dataframe\">\n",
       "  <thead>\n",
       "    <tr style=\"text-align: right;\">\n",
       "      <th></th>\n",
       "      <th>Data provided by SimFin</th>\n",
       "      <th>Unnamed: 1</th>\n",
       "      <th>Unnamed: 2</th>\n",
       "      <th>Unnamed: 3</th>\n",
       "      <th>Unnamed: 4</th>\n",
       "      <th>Unnamed: 5</th>\n",
       "      <th>Unnamed: 6</th>\n",
       "      <th>Unnamed: 7</th>\n",
       "      <th>Unnamed: 8</th>\n",
       "      <th>Unnamed: 9</th>\n",
       "      <th>Unnamed: 10</th>\n",
       "      <th>Unnamed: 11</th>\n",
       "    </tr>\n",
       "  </thead>\n",
       "  <tbody>\n",
       "    <tr>\n",
       "      <th>0</th>\n",
       "      <td>NaN</td>\n",
       "      <td>NaN</td>\n",
       "      <td>NaN</td>\n",
       "      <td>NaN</td>\n",
       "      <td>NaN</td>\n",
       "      <td>NaN</td>\n",
       "      <td>NaN</td>\n",
       "      <td>NaN</td>\n",
       "      <td>NaN</td>\n",
       "      <td>NaN</td>\n",
       "      <td>NaN</td>\n",
       "      <td>NaN</td>\n",
       "    </tr>\n",
       "    <tr>\n",
       "      <th>1</th>\n",
       "      <td>Profit &amp; Loss statement</td>\n",
       "      <td>NaN</td>\n",
       "      <td>NaN</td>\n",
       "      <td>NaN</td>\n",
       "      <td>NaN</td>\n",
       "      <td>NaN</td>\n",
       "      <td>NaN</td>\n",
       "      <td>NaN</td>\n",
       "      <td>NaN</td>\n",
       "      <td>NaN</td>\n",
       "      <td>NaN</td>\n",
       "      <td>NaN</td>\n",
       "    </tr>\n",
       "    <tr>\n",
       "      <th>2</th>\n",
       "      <td>NaN</td>\n",
       "      <td>in million USD</td>\n",
       "      <td>FY '09</td>\n",
       "      <td>FY '10</td>\n",
       "      <td>FY '11</td>\n",
       "      <td>FY '12</td>\n",
       "      <td>FY '13</td>\n",
       "      <td>FY '14</td>\n",
       "      <td>FY '15</td>\n",
       "      <td>FY '16</td>\n",
       "      <td>FY '17</td>\n",
       "      <td>FY '18</td>\n",
       "    </tr>\n",
       "    <tr>\n",
       "      <th>3</th>\n",
       "      <td>NaN</td>\n",
       "      <td>NET OPERATING REVENUES</td>\n",
       "      <td>30990</td>\n",
       "      <td>35119</td>\n",
       "      <td>46542</td>\n",
       "      <td>48017</td>\n",
       "      <td>46854</td>\n",
       "      <td>45998</td>\n",
       "      <td>44294</td>\n",
       "      <td>41863</td>\n",
       "      <td>35410</td>\n",
       "      <td>31856</td>\n",
       "    </tr>\n",
       "    <tr>\n",
       "      <th>4</th>\n",
       "      <td>NaN</td>\n",
       "      <td>Cost of goods sold</td>\n",
       "      <td>11088</td>\n",
       "      <td>12693</td>\n",
       "      <td>18215</td>\n",
       "      <td>19053</td>\n",
       "      <td>18421</td>\n",
       "      <td>17889</td>\n",
       "      <td>17482</td>\n",
       "      <td>16465</td>\n",
       "      <td>13255</td>\n",
       "      <td>11770</td>\n",
       "    </tr>\n",
       "    <tr>\n",
       "      <th>...</th>\n",
       "      <td>...</td>\n",
       "      <td>...</td>\n",
       "      <td>...</td>\n",
       "      <td>...</td>\n",
       "      <td>...</td>\n",
       "      <td>...</td>\n",
       "      <td>...</td>\n",
       "      <td>...</td>\n",
       "      <td>...</td>\n",
       "      <td>...</td>\n",
       "      <td>...</td>\n",
       "      <td>...</td>\n",
       "    </tr>\n",
       "    <tr>\n",
       "      <th>98</th>\n",
       "      <td>NaN</td>\n",
       "      <td>Effect of exchange rate changes on cash and ca...</td>\n",
       "      <td>576</td>\n",
       "      <td>-166</td>\n",
       "      <td>-430</td>\n",
       "      <td>-255</td>\n",
       "      <td>-611</td>\n",
       "      <td>-934</td>\n",
       "      <td>-878</td>\n",
       "      <td>-6</td>\n",
       "      <td>241</td>\n",
       "      <td>-262</td>\n",
       "    </tr>\n",
       "    <tr>\n",
       "      <th>99</th>\n",
       "      <td>NaN</td>\n",
       "      <td>Cash Provided by (Used in) Investing Activitie...</td>\n",
       "      <td>NaN</td>\n",
       "      <td>NaN</td>\n",
       "      <td>NaN</td>\n",
       "      <td>NaN</td>\n",
       "      <td>NaN</td>\n",
       "      <td>NaN</td>\n",
       "      <td>0</td>\n",
       "      <td>0</td>\n",
       "      <td>-58</td>\n",
       "      <td>-421</td>\n",
       "    </tr>\n",
       "    <tr>\n",
       "      <th>100</th>\n",
       "      <td>NaN</td>\n",
       "      <td>Cash Provided by (Used in) Financing Activitie...</td>\n",
       "      <td>NaN</td>\n",
       "      <td>NaN</td>\n",
       "      <td>NaN</td>\n",
       "      <td>NaN</td>\n",
       "      <td>NaN</td>\n",
       "      <td>NaN</td>\n",
       "      <td>0</td>\n",
       "      <td>0</td>\n",
       "      <td>-38</td>\n",
       "      <td>205</td>\n",
       "    </tr>\n",
       "    <tr>\n",
       "      <th>101</th>\n",
       "      <td>NaN</td>\n",
       "      <td>Net Cash Provided by (Used in) Discontinued Op...</td>\n",
       "      <td>NaN</td>\n",
       "      <td>NaN</td>\n",
       "      <td>NaN</td>\n",
       "      <td>NaN</td>\n",
       "      <td>NaN</td>\n",
       "      <td>NaN</td>\n",
       "      <td>0</td>\n",
       "      <td>0</td>\n",
       "      <td>15</td>\n",
       "      <td>91</td>\n",
       "    </tr>\n",
       "    <tr>\n",
       "      <th>102</th>\n",
       "      <td>NaN</td>\n",
       "      <td>Net increase (decrease) during the year</td>\n",
       "      <td>2320</td>\n",
       "      <td>1496</td>\n",
       "      <td>4286</td>\n",
       "      <td>-4361</td>\n",
       "      <td>1972</td>\n",
       "      <td>-1456</td>\n",
       "      <td>-1649</td>\n",
       "      <td>1246</td>\n",
       "      <td>-2477</td>\n",
       "      <td>2945</td>\n",
       "    </tr>\n",
       "  </tbody>\n",
       "</table>\n",
       "<p>103 rows × 12 columns</p>\n",
       "</div>"
      ],
      "text/plain": [
       "     Data provided by SimFin  \\\n",
       "0                        NaN   \n",
       "1    Profit & Loss statement   \n",
       "2                        NaN   \n",
       "3                        NaN   \n",
       "4                        NaN   \n",
       "..                       ...   \n",
       "98                       NaN   \n",
       "99                       NaN   \n",
       "100                      NaN   \n",
       "101                      NaN   \n",
       "102                      NaN   \n",
       "\n",
       "                                            Unnamed: 1 Unnamed: 2 Unnamed: 3  \\\n",
       "0                                                  NaN        NaN        NaN   \n",
       "1                                                  NaN        NaN        NaN   \n",
       "2                                       in million USD     FY '09     FY '10   \n",
       "3                               NET OPERATING REVENUES      30990      35119   \n",
       "4                                   Cost of goods sold      11088      12693   \n",
       "..                                                 ...        ...        ...   \n",
       "98   Effect of exchange rate changes on cash and ca...        576       -166   \n",
       "99   Cash Provided by (Used in) Investing Activitie...        NaN        NaN   \n",
       "100  Cash Provided by (Used in) Financing Activitie...        NaN        NaN   \n",
       "101  Net Cash Provided by (Used in) Discontinued Op...        NaN        NaN   \n",
       "102            Net increase (decrease) during the year       2320       1496   \n",
       "\n",
       "    Unnamed: 4 Unnamed: 5 Unnamed: 6 Unnamed: 7 Unnamed: 8 Unnamed: 9  \\\n",
       "0          NaN        NaN        NaN        NaN        NaN        NaN   \n",
       "1          NaN        NaN        NaN        NaN        NaN        NaN   \n",
       "2       FY '11     FY '12     FY '13     FY '14     FY '15     FY '16   \n",
       "3        46542      48017      46854      45998      44294      41863   \n",
       "4        18215      19053      18421      17889      17482      16465   \n",
       "..         ...        ...        ...        ...        ...        ...   \n",
       "98        -430       -255       -611       -934       -878         -6   \n",
       "99         NaN        NaN        NaN        NaN          0          0   \n",
       "100        NaN        NaN        NaN        NaN          0          0   \n",
       "101        NaN        NaN        NaN        NaN          0          0   \n",
       "102       4286      -4361       1972      -1456      -1649       1246   \n",
       "\n",
       "    Unnamed: 10 Unnamed: 11  \n",
       "0           NaN         NaN  \n",
       "1           NaN         NaN  \n",
       "2        FY '17      FY '18  \n",
       "3         35410       31856  \n",
       "4         13255       11770  \n",
       "..          ...         ...  \n",
       "98          241        -262  \n",
       "99          -58        -421  \n",
       "100         -38         205  \n",
       "101          15          91  \n",
       "102       -2477        2945  \n",
       "\n",
       "[103 rows x 12 columns]"
      ]
     },
     "execution_count": 61,
     "metadata": {},
     "output_type": "execute_result"
    }
   ],
   "source": [
    "df2 = pd.read_excel(\"Cola.xlsx\")\n",
    "df2"
   ]
  },
  {
   "cell_type": "code",
   "execution_count": 63,
   "id": "c6128109",
   "metadata": {},
   "outputs": [],
   "source": [
    "df1.to_pickle(\"df_pickle\")"
   ]
  },
  {
   "cell_type": "code",
   "execution_count": 64,
   "id": "4d8e4e3c",
   "metadata": {},
   "outputs": [],
   "source": [
    "df4 = pd.read_pickle(\"df_pickle\")"
   ]
  },
  {
   "cell_type": "code",
   "execution_count": null,
   "id": "fdf6a1bb",
   "metadata": {},
   "outputs": [
    {
     "data": {
      "text/html": [
       "<div>\n",
       "<style scoped>\n",
       "    .dataframe tbody tr th:only-of-type {\n",
       "        vertical-align: middle;\n",
       "    }\n",
       "\n",
       "    .dataframe tbody tr th {\n",
       "        vertical-align: top;\n",
       "    }\n",
       "\n",
       "    .dataframe thead th {\n",
       "        text-align: right;\n",
       "    }\n",
       "</style>\n",
       "<table border=\"1\" class=\"dataframe\">\n",
       "  <thead>\n",
       "    <tr style=\"text-align: right;\">\n",
       "      <th></th>\n",
       "      <th>name</th>\n",
       "      <th>email</th>\n",
       "      <th>Role</th>\n",
       "    </tr>\n",
       "  </thead>\n",
       "  <tbody>\n",
       "    <tr>\n",
       "      <th>0</th>\n",
       "      <td>inthu</td>\n",
       "      <td>inthujanjan@gmail.com</td>\n",
       "      <td>AI MI Engineer</td>\n",
       "    </tr>\n",
       "  </tbody>\n",
       "</table>\n",
       "</div>"
      ],
      "text/plain": [
       "    name                  email            Role\n",
       "0  inthu  inthujanjan@gmail.com  AI MI Engineer"
      ]
     },
     "execution_count": 65,
     "metadata": {},
     "output_type": "execute_result"
    }
   ],
   "source": [
    "df4"
   ]
  },
  {
   "cell_type": "code",
   "execution_count": 68,
   "id": "aee8b8a0",
   "metadata": {},
   "outputs": [
    {
     "name": "stdout",
     "output_type": "stream",
     "text": [
      "Requirement already satisfied: lxml in c:\\users\\nixsala\\desktop\\data_analysis\\venv\\lib\\site-packages (6.0.0)\n"
     ]
    },
    {
     "name": "stderr",
     "output_type": "stream",
     "text": [
      "\n",
      "[notice] A new release of pip is available: 24.2 -> 25.2\n",
      "[notice] To update, run: python.exe -m pip install --upgrade pip\n"
     ]
    }
   ],
   "source": [
    "!pip install lxml"
   ]
  },
  {
   "cell_type": "code",
   "execution_count": 71,
   "id": "bffaabf9",
   "metadata": {},
   "outputs": [
    {
     "name": "stdout",
     "output_type": "stream",
     "text": [
      "Requirement already satisfied: html5lib in c:\\users\\nixsala\\desktop\\data_analysis\\venv\\lib\\site-packages (1.1)\n",
      "Requirement already satisfied: six>=1.9 in c:\\users\\nixsala\\desktop\\data_analysis\\venv\\lib\\site-packages (from html5lib) (1.17.0)\n",
      "Requirement already satisfied: webencodings in c:\\users\\nixsala\\desktop\\data_analysis\\venv\\lib\\site-packages (from html5lib) (0.5.1)\n"
     ]
    },
    {
     "name": "stderr",
     "output_type": "stream",
     "text": [
      "\n",
      "[notice] A new release of pip is available: 24.2 -> 25.2\n",
      "[notice] To update, run: python.exe -m pip install --upgrade pip\n"
     ]
    }
   ],
   "source": [
    "!pip install html5lib"
   ]
  },
  {
   "cell_type": "code",
   "execution_count": 75,
   "id": "25810285",
   "metadata": {},
   "outputs": [
    {
     "name": "stdout",
     "output_type": "stream",
     "text": [
      "Collecting beautifulsoup4\n",
      "  Downloading beautifulsoup4-4.13.4-py3-none-any.whl.metadata (3.8 kB)\n",
      "Collecting soupsieve>1.2 (from beautifulsoup4)\n",
      "  Downloading soupsieve-2.7-py3-none-any.whl.metadata (4.6 kB)\n",
      "Collecting typing-extensions>=4.0.0 (from beautifulsoup4)\n",
      "  Downloading typing_extensions-4.14.1-py3-none-any.whl.metadata (3.0 kB)\n",
      "Downloading beautifulsoup4-4.13.4-py3-none-any.whl (187 kB)\n",
      "Downloading soupsieve-2.7-py3-none-any.whl (36 kB)\n",
      "Downloading typing_extensions-4.14.1-py3-none-any.whl (43 kB)\n",
      "Installing collected packages: typing-extensions, soupsieve, beautifulsoup4\n",
      "Successfully installed beautifulsoup4-4.13.4 soupsieve-2.7 typing-extensions-4.14.1\n"
     ]
    },
    {
     "name": "stderr",
     "output_type": "stream",
     "text": [
      "\n",
      "[notice] A new release of pip is available: 24.2 -> 25.2\n",
      "[notice] To update, run: python.exe -m pip install --upgrade pip\n"
     ]
    }
   ],
   "source": [
    "!pip install beautifulsoup4"
   ]
  },
  {
   "cell_type": "code",
   "execution_count": 31,
   "id": "78071c19",
   "metadata": {},
   "outputs": [
    {
     "data": {
      "text/html": [
       "<div>\n",
       "<style scoped>\n",
       "    .dataframe tbody tr th:only-of-type {\n",
       "        vertical-align: middle;\n",
       "    }\n",
       "\n",
       "    .dataframe tbody tr th {\n",
       "        vertical-align: top;\n",
       "    }\n",
       "\n",
       "    .dataframe thead th {\n",
       "        text-align: right;\n",
       "    }\n",
       "</style>\n",
       "<table border=\"1\" class=\"dataframe\">\n",
       "  <thead>\n",
       "    <tr style=\"text-align: right;\">\n",
       "      <th></th>\n",
       "      <th>Name</th>\n",
       "      <th>Age</th>\n",
       "      <th>City</th>\n",
       "    </tr>\n",
       "  </thead>\n",
       "  <tbody>\n",
       "    <tr>\n",
       "      <th>0</th>\n",
       "      <td>John</td>\n",
       "      <td>25</td>\n",
       "      <td>New York</td>\n",
       "    </tr>\n",
       "    <tr>\n",
       "      <th>1</th>\n",
       "      <td>Alice</td>\n",
       "      <td>30</td>\n",
       "      <td>Los Angeles</td>\n",
       "    </tr>\n",
       "    <tr>\n",
       "      <th>2</th>\n",
       "      <td>Bob</td>\n",
       "      <td>35</td>\n",
       "      <td>Chicago</td>\n",
       "    </tr>\n",
       "  </tbody>\n",
       "</table>\n",
       "</div>"
      ],
      "text/plain": [
       "    Name  Age         City\n",
       "0   John   25     New York\n",
       "1  Alice   30  Los Angeles\n",
       "2    Bob   35      Chicago"
      ]
     },
     "execution_count": 31,
     "metadata": {},
     "output_type": "execute_result"
    }
   ],
   "source": [
    "# Step 1: Import pandas\n",
    "import pandas as pd\n",
    "\n",
    "# Step 2: Read the HTML file\n",
    "df_list = pd.read_html(\"mi_sample.html\")  # Returns a list\n",
    "\n",
    "# Step 3: Extract the first table\n",
    "#df5 = df_list[0]\n",
    "\n",
    "# Step 4: Display it\n",
    "df5"
   ]
  },
  {
   "cell_type": "code",
   "execution_count": 32,
   "id": "d7098e04",
   "metadata": {},
   "outputs": [],
   "source": [
    "somthing = pd.read_csv(\"Qwen.csv\")"
   ]
  },
  {
   "cell_type": "code",
   "execution_count": 33,
   "id": "f3f6c1c7",
   "metadata": {},
   "outputs": [
    {
     "data": {
      "text/html": [
       "<div>\n",
       "<style scoped>\n",
       "    .dataframe tbody tr th:only-of-type {\n",
       "        vertical-align: middle;\n",
       "    }\n",
       "\n",
       "    .dataframe tbody tr th {\n",
       "        vertical-align: top;\n",
       "    }\n",
       "\n",
       "    .dataframe thead th {\n",
       "        text-align: right;\n",
       "    }\n",
       "</style>\n",
       "<table border=\"1\" class=\"dataframe\">\n",
       "  <thead>\n",
       "    <tr style=\"text-align: right;\">\n",
       "      <th></th>\n",
       "      <th>ID</th>\n",
       "      <th>Name</th>\n",
       "      <th>Age</th>\n",
       "      <th>Department</th>\n",
       "      <th>Salary</th>\n",
       "      <th>City</th>\n",
       "    </tr>\n",
       "  </thead>\n",
       "  <tbody>\n",
       "    <tr>\n",
       "      <th>0</th>\n",
       "      <td>1</td>\n",
       "      <td>Alice</td>\n",
       "      <td>28</td>\n",
       "      <td>Engineering</td>\n",
       "      <td>70000</td>\n",
       "      <td>New York</td>\n",
       "    </tr>\n",
       "    <tr>\n",
       "      <th>1</th>\n",
       "      <td>2</td>\n",
       "      <td>Bob</td>\n",
       "      <td>34</td>\n",
       "      <td>Marketing</td>\n",
       "      <td>54000</td>\n",
       "      <td>Los Angeles</td>\n",
       "    </tr>\n",
       "    <tr>\n",
       "      <th>2</th>\n",
       "      <td>3</td>\n",
       "      <td>Charlie</td>\n",
       "      <td>29</td>\n",
       "      <td>Engineering</td>\n",
       "      <td>80000</td>\n",
       "      <td>New York</td>\n",
       "    </tr>\n",
       "    <tr>\n",
       "      <th>3</th>\n",
       "      <td>4</td>\n",
       "      <td>Diana</td>\n",
       "      <td>35</td>\n",
       "      <td>HR</td>\n",
       "      <td>60000</td>\n",
       "      <td>Chicago</td>\n",
       "    </tr>\n",
       "    <tr>\n",
       "      <th>4</th>\n",
       "      <td>5</td>\n",
       "      <td>Eve</td>\n",
       "      <td>30</td>\n",
       "      <td>Sales</td>\n",
       "      <td>58000</td>\n",
       "      <td>Seattle</td>\n",
       "    </tr>\n",
       "  </tbody>\n",
       "</table>\n",
       "</div>"
      ],
      "text/plain": [
       "   ID     Name  Age   Department  Salary         City\n",
       "0   1    Alice   28  Engineering   70000     New York\n",
       "1   2      Bob   34    Marketing   54000  Los Angeles\n",
       "2   3  Charlie   29  Engineering   80000     New York\n",
       "3   4    Diana   35           HR   60000      Chicago\n",
       "4   5      Eve   30        Sales   58000      Seattle"
      ]
     },
     "execution_count": 33,
     "metadata": {},
     "output_type": "execute_result"
    }
   ],
   "source": [
    "somthing"
   ]
  },
  {
   "cell_type": "code",
   "execution_count": 3,
   "id": "910eab28",
   "metadata": {},
   "outputs": [
    {
     "name": "stdout",
     "output_type": "stream",
     "text": [
      "School Table:\n",
      "   school_id               name location\n",
      "0          1  Green Valley High   Jaffna\n",
      "1          2  Blue Star Academy  Colombo\n",
      "\n",
      "Teacher Table:\n",
      "   teacher_id        name      subject  school_id\n",
      "0           1  Mr. Selvan  Mathematics          1\n",
      "1           2   Ms. Priya      Science          2\n",
      "2           3   Mr. Kumar      English          1\n"
     ]
    }
   ],
   "source": [
    "import sqlite3\n",
    "import pandas as pd\n",
    "\n",
    "# Connect to the SQLite database file\n",
    "conn = sqlite3.connect(\"school_database.sqlite\")\n",
    "\n",
    "# Read the school table\n",
    "school_df = pd.read_sql(\"SELECT * FROM school\", conn)\n",
    "\n",
    "# Read the teacher table\n",
    "teacher_df = pd.read_sql(\"SELECT * FROM teacher\", conn)\n",
    "\n",
    "# Display the data\n",
    "print(\"School Table:\")\n",
    "print(school_df)\n",
    "\n",
    "print(\"\\nTeacher Table:\")\n",
    "print(teacher_df)\n",
    "\n",
    "# Close the connection\n",
    "conn.close()"
   ]
  },
  {
   "cell_type": "markdown",
   "id": "e39c771a",
   "metadata": {},
   "source": [
    "## Data Manipulation with Pandas"
   ]
  },
  {
   "cell_type": "code",
   "execution_count": 4,
   "id": "2cddb7c6",
   "metadata": {},
   "outputs": [
    {
     "data": {
      "text/html": [
       "<div>\n",
       "<style scoped>\n",
       "    .dataframe tbody tr th:only-of-type {\n",
       "        vertical-align: middle;\n",
       "    }\n",
       "\n",
       "    .dataframe tbody tr th {\n",
       "        vertical-align: top;\n",
       "    }\n",
       "\n",
       "    .dataframe thead th {\n",
       "        text-align: right;\n",
       "    }\n",
       "</style>\n",
       "<table border=\"1\" class=\"dataframe\">\n",
       "  <thead>\n",
       "    <tr style=\"text-align: right;\">\n",
       "      <th></th>\n",
       "      <th>OrderID</th>\n",
       "      <th>Date</th>\n",
       "      <th>Time</th>\n",
       "      <th>Category</th>\n",
       "      <th>Product</th>\n",
       "      <th>Quantity</th>\n",
       "      <th>UnitPrice</th>\n",
       "      <th>TotalPrice</th>\n",
       "      <th>CustomerRegion</th>\n",
       "      <th>PaymentMethod</th>\n",
       "      <th>SatisfactionRating</th>\n",
       "    </tr>\n",
       "  </thead>\n",
       "  <tbody>\n",
       "    <tr>\n",
       "      <th>0</th>\n",
       "      <td>1003</td>\n",
       "      <td>2025-03-01</td>\n",
       "      <td>16:45:08</td>\n",
       "      <td>Books</td>\n",
       "      <td>Web Development with Django</td>\n",
       "      <td>1</td>\n",
       "      <td>44.99</td>\n",
       "      <td>44.99</td>\n",
       "      <td>Central</td>\n",
       "      <td>Debit Card</td>\n",
       "      <td>5</td>\n",
       "    </tr>\n",
       "    <tr>\n",
       "      <th>1</th>\n",
       "      <td>1004</td>\n",
       "      <td>2025-03-02</td>\n",
       "      <td>09:12:33</td>\n",
       "      <td>Electronics</td>\n",
       "      <td>Wireless Earbuds</td>\n",
       "      <td>2</td>\n",
       "      <td>79.99</td>\n",
       "      <td>159.98</td>\n",
       "      <td>South</td>\n",
       "      <td>PayPal</td>\n",
       "      <td>4</td>\n",
       "    </tr>\n",
       "    <tr>\n",
       "      <th>2</th>\n",
       "      <td>1005</td>\n",
       "      <td>2025-03-02</td>\n",
       "      <td>11:30:15</td>\n",
       "      <td>Clothing</td>\n",
       "      <td>Smartwatch Band</td>\n",
       "      <td>1</td>\n",
       "      <td>29.99</td>\n",
       "      <td>29.99</td>\n",
       "      <td>North</td>\n",
       "      <td>Credit Card</td>\n",
       "      <td>3</td>\n",
       "    </tr>\n",
       "    <tr>\n",
       "      <th>3</th>\n",
       "      <td>1006</td>\n",
       "      <td>2025-03-03</td>\n",
       "      <td>13:20:44</td>\n",
       "      <td>Books</td>\n",
       "      <td>Data Science for Beginners</td>\n",
       "      <td>1</td>\n",
       "      <td>54.99</td>\n",
       "      <td>54.99</td>\n",
       "      <td>East</td>\n",
       "      <td>Gift Card</td>\n",
       "      <td>5</td>\n",
       "    </tr>\n",
       "    <tr>\n",
       "      <th>4</th>\n",
       "      <td>1007</td>\n",
       "      <td>2025-03-03</td>\n",
       "      <td>14:55:21</td>\n",
       "      <td>Electronics</td>\n",
       "      <td>Portable Charger</td>\n",
       "      <td>1</td>\n",
       "      <td>39.99</td>\n",
       "      <td>39.99</td>\n",
       "      <td>West</td>\n",
       "      <td>PayPal</td>\n",
       "      <td>4</td>\n",
       "    </tr>\n",
       "  </tbody>\n",
       "</table>\n",
       "</div>"
      ],
      "text/plain": [
       "   OrderID        Date      Time     Category                      Product  \\\n",
       "0     1003  2025-03-01  16:45:08        Books  Web Development with Django   \n",
       "1     1004  2025-03-02  09:12:33  Electronics             Wireless Earbuds   \n",
       "2     1005  2025-03-02  11:30:15     Clothing              Smartwatch Band   \n",
       "3     1006  2025-03-03  13:20:44        Books   Data Science for Beginners   \n",
       "4     1007  2025-03-03  14:55:21  Electronics             Portable Charger   \n",
       "\n",
       "   Quantity  UnitPrice  TotalPrice CustomerRegion PaymentMethod  \\\n",
       "0         1      44.99       44.99        Central    Debit Card   \n",
       "1         2      79.99      159.98          South        PayPal   \n",
       "2         1      29.99       29.99          North   Credit Card   \n",
       "3         1      54.99       54.99           East     Gift Card   \n",
       "4         1      39.99       39.99           West        PayPal   \n",
       "\n",
       "   SatisfactionRating  \n",
       "0                   5  \n",
       "1                   4  \n",
       "2                   3  \n",
       "3                   5  \n",
       "4                   4  "
      ]
     },
     "execution_count": 4,
     "metadata": {},
     "output_type": "execute_result"
    }
   ],
   "source": [
    "df = pd.read_csv(\"Online_Sale_Data.csv\")\n",
    "df.head()"
   ]
  },
  {
   "cell_type": "code",
   "execution_count": 5,
   "id": "0ceeb781",
   "metadata": {},
   "outputs": [
    {
     "data": {
      "text/html": [
       "<div>\n",
       "<style scoped>\n",
       "    .dataframe tbody tr th:only-of-type {\n",
       "        vertical-align: middle;\n",
       "    }\n",
       "\n",
       "    .dataframe tbody tr th {\n",
       "        vertical-align: top;\n",
       "    }\n",
       "\n",
       "    .dataframe thead th {\n",
       "        text-align: right;\n",
       "    }\n",
       "</style>\n",
       "<table border=\"1\" class=\"dataframe\">\n",
       "  <thead>\n",
       "    <tr style=\"text-align: right;\">\n",
       "      <th></th>\n",
       "      <th>OrderID</th>\n",
       "      <th>Date</th>\n",
       "      <th>Time</th>\n",
       "      <th>Category</th>\n",
       "      <th>Product</th>\n",
       "      <th>Quantity</th>\n",
       "      <th>UnitPrice</th>\n",
       "      <th>TotalPrice</th>\n",
       "      <th>CustomerRegion</th>\n",
       "      <th>PaymentMethod</th>\n",
       "      <th>SatisfactionRating</th>\n",
       "    </tr>\n",
       "  </thead>\n",
       "  <tbody>\n",
       "    <tr>\n",
       "      <th>5</th>\n",
       "      <td>1008</td>\n",
       "      <td>2025-03-04</td>\n",
       "      <td>10:08:11</td>\n",
       "      <td>Clothing</td>\n",
       "      <td>Programmer T-Shirt</td>\n",
       "      <td>2</td>\n",
       "      <td>24.99</td>\n",
       "      <td>49.98</td>\n",
       "      <td>Central</td>\n",
       "      <td>Credit Card</td>\n",
       "      <td>5</td>\n",
       "    </tr>\n",
       "    <tr>\n",
       "      <th>6</th>\n",
       "      <td>1009</td>\n",
       "      <td>2025-03-04</td>\n",
       "      <td>12:15:30</td>\n",
       "      <td>Electronics</td>\n",
       "      <td>Smart Home Camera</td>\n",
       "      <td>1</td>\n",
       "      <td>129.99</td>\n",
       "      <td>129.99</td>\n",
       "      <td>South</td>\n",
       "      <td>Debit Card</td>\n",
       "      <td>4</td>\n",
       "    </tr>\n",
       "    <tr>\n",
       "      <th>7</th>\n",
       "      <td>1010</td>\n",
       "      <td>2025-03-05</td>\n",
       "      <td>08:44:17</td>\n",
       "      <td>Books</td>\n",
       "      <td>Machine Learning Guide</td>\n",
       "      <td>1</td>\n",
       "      <td>69.99</td>\n",
       "      <td>69.99</td>\n",
       "      <td>North</td>\n",
       "      <td>PayPal</td>\n",
       "      <td>5</td>\n",
       "    </tr>\n",
       "    <tr>\n",
       "      <th>8</th>\n",
       "      <td>1011</td>\n",
       "      <td>2025-03-05</td>\n",
       "      <td>17:33:59</td>\n",
       "      <td>Clothing</td>\n",
       "      <td>Hoodie - Tech Edition</td>\n",
       "      <td>1</td>\n",
       "      <td>59.99</td>\n",
       "      <td>59.99</td>\n",
       "      <td>West</td>\n",
       "      <td>Gift Card</td>\n",
       "      <td>4</td>\n",
       "    </tr>\n",
       "    <tr>\n",
       "      <th>9</th>\n",
       "      <td>1012</td>\n",
       "      <td>2025-03-06</td>\n",
       "      <td>19:20:01</td>\n",
       "      <td>Electronics</td>\n",
       "      <td>Bluetooth Speaker</td>\n",
       "      <td>1</td>\n",
       "      <td>89.99</td>\n",
       "      <td>89.99</td>\n",
       "      <td>East</td>\n",
       "      <td>Credit Card</td>\n",
       "      <td>3</td>\n",
       "    </tr>\n",
       "  </tbody>\n",
       "</table>\n",
       "</div>"
      ],
      "text/plain": [
       "   OrderID        Date      Time     Category                 Product  \\\n",
       "5     1008  2025-03-04  10:08:11     Clothing      Programmer T-Shirt   \n",
       "6     1009  2025-03-04  12:15:30  Electronics       Smart Home Camera   \n",
       "7     1010  2025-03-05  08:44:17        Books  Machine Learning Guide   \n",
       "8     1011  2025-03-05  17:33:59     Clothing   Hoodie - Tech Edition   \n",
       "9     1012  2025-03-06  19:20:01  Electronics       Bluetooth Speaker   \n",
       "\n",
       "   Quantity  UnitPrice  TotalPrice CustomerRegion PaymentMethod  \\\n",
       "5         2      24.99       49.98        Central   Credit Card   \n",
       "6         1     129.99      129.99          South    Debit Card   \n",
       "7         1      69.99       69.99          North        PayPal   \n",
       "8         1      59.99       59.99           West     Gift Card   \n",
       "9         1      89.99       89.99           East   Credit Card   \n",
       "\n",
       "   SatisfactionRating  \n",
       "5                   5  \n",
       "6                   4  \n",
       "7                   5  \n",
       "8                   4  \n",
       "9                   3  "
      ]
     },
     "execution_count": 5,
     "metadata": {},
     "output_type": "execute_result"
    }
   ],
   "source": [
    "df.tail()"
   ]
  },
  {
   "cell_type": "code",
   "execution_count": 9,
   "id": "bcdc3f15",
   "metadata": {},
   "outputs": [
    {
     "data": {
      "text/html": [
       "<div>\n",
       "<style scoped>\n",
       "    .dataframe tbody tr th:only-of-type {\n",
       "        vertical-align: middle;\n",
       "    }\n",
       "\n",
       "    .dataframe tbody tr th {\n",
       "        vertical-align: top;\n",
       "    }\n",
       "\n",
       "    .dataframe thead th {\n",
       "        text-align: right;\n",
       "    }\n",
       "</style>\n",
       "<table border=\"1\" class=\"dataframe\">\n",
       "  <thead>\n",
       "    <tr style=\"text-align: right;\">\n",
       "      <th></th>\n",
       "      <th>OrderID</th>\n",
       "      <th>Date</th>\n",
       "      <th>Time</th>\n",
       "      <th>Category</th>\n",
       "      <th>Product</th>\n",
       "      <th>Quantity</th>\n",
       "      <th>UnitPrice</th>\n",
       "      <th>TotalPrice</th>\n",
       "      <th>CustomerRegion</th>\n",
       "      <th>PaymentMethod</th>\n",
       "      <th>SatisfactionRating</th>\n",
       "    </tr>\n",
       "  </thead>\n",
       "  <tbody>\n",
       "    <tr>\n",
       "      <th>1</th>\n",
       "      <td>1004</td>\n",
       "      <td>2025-03-02</td>\n",
       "      <td>09:12:33</td>\n",
       "      <td>Electronics</td>\n",
       "      <td>Wireless Earbuds</td>\n",
       "      <td>2</td>\n",
       "      <td>79.99</td>\n",
       "      <td>159.98</td>\n",
       "      <td>South</td>\n",
       "      <td>PayPal</td>\n",
       "      <td>4</td>\n",
       "    </tr>\n",
       "    <tr>\n",
       "      <th>2</th>\n",
       "      <td>1005</td>\n",
       "      <td>2025-03-02</td>\n",
       "      <td>11:30:15</td>\n",
       "      <td>Clothing</td>\n",
       "      <td>Smartwatch Band</td>\n",
       "      <td>1</td>\n",
       "      <td>29.99</td>\n",
       "      <td>29.99</td>\n",
       "      <td>North</td>\n",
       "      <td>Credit Card</td>\n",
       "      <td>3</td>\n",
       "    </tr>\n",
       "    <tr>\n",
       "      <th>3</th>\n",
       "      <td>1006</td>\n",
       "      <td>2025-03-03</td>\n",
       "      <td>13:20:44</td>\n",
       "      <td>Books</td>\n",
       "      <td>Data Science for Beginners</td>\n",
       "      <td>1</td>\n",
       "      <td>54.99</td>\n",
       "      <td>54.99</td>\n",
       "      <td>East</td>\n",
       "      <td>Gift Card</td>\n",
       "      <td>5</td>\n",
       "    </tr>\n",
       "    <tr>\n",
       "      <th>4</th>\n",
       "      <td>1007</td>\n",
       "      <td>2025-03-03</td>\n",
       "      <td>14:55:21</td>\n",
       "      <td>Electronics</td>\n",
       "      <td>Portable Charger</td>\n",
       "      <td>1</td>\n",
       "      <td>39.99</td>\n",
       "      <td>39.99</td>\n",
       "      <td>West</td>\n",
       "      <td>PayPal</td>\n",
       "      <td>4</td>\n",
       "    </tr>\n",
       "    <tr>\n",
       "      <th>5</th>\n",
       "      <td>1008</td>\n",
       "      <td>2025-03-04</td>\n",
       "      <td>10:08:11</td>\n",
       "      <td>Clothing</td>\n",
       "      <td>Programmer T-Shirt</td>\n",
       "      <td>2</td>\n",
       "      <td>24.99</td>\n",
       "      <td>49.98</td>\n",
       "      <td>Central</td>\n",
       "      <td>Credit Card</td>\n",
       "      <td>5</td>\n",
       "    </tr>\n",
       "    <tr>\n",
       "      <th>6</th>\n",
       "      <td>1009</td>\n",
       "      <td>2025-03-04</td>\n",
       "      <td>12:15:30</td>\n",
       "      <td>Electronics</td>\n",
       "      <td>Smart Home Camera</td>\n",
       "      <td>1</td>\n",
       "      <td>129.99</td>\n",
       "      <td>129.99</td>\n",
       "      <td>South</td>\n",
       "      <td>Debit Card</td>\n",
       "      <td>4</td>\n",
       "    </tr>\n",
       "    <tr>\n",
       "      <th>7</th>\n",
       "      <td>1010</td>\n",
       "      <td>2025-03-05</td>\n",
       "      <td>08:44:17</td>\n",
       "      <td>Books</td>\n",
       "      <td>Machine Learning Guide</td>\n",
       "      <td>1</td>\n",
       "      <td>69.99</td>\n",
       "      <td>69.99</td>\n",
       "      <td>North</td>\n",
       "      <td>PayPal</td>\n",
       "      <td>5</td>\n",
       "    </tr>\n",
       "    <tr>\n",
       "      <th>8</th>\n",
       "      <td>1011</td>\n",
       "      <td>2025-03-05</td>\n",
       "      <td>17:33:59</td>\n",
       "      <td>Clothing</td>\n",
       "      <td>Hoodie - Tech Edition</td>\n",
       "      <td>1</td>\n",
       "      <td>59.99</td>\n",
       "      <td>59.99</td>\n",
       "      <td>West</td>\n",
       "      <td>Gift Card</td>\n",
       "      <td>4</td>\n",
       "    </tr>\n",
       "    <tr>\n",
       "      <th>9</th>\n",
       "      <td>1012</td>\n",
       "      <td>2025-03-06</td>\n",
       "      <td>19:20:01</td>\n",
       "      <td>Electronics</td>\n",
       "      <td>Bluetooth Speaker</td>\n",
       "      <td>1</td>\n",
       "      <td>89.99</td>\n",
       "      <td>89.99</td>\n",
       "      <td>East</td>\n",
       "      <td>Credit Card</td>\n",
       "      <td>3</td>\n",
       "    </tr>\n",
       "  </tbody>\n",
       "</table>\n",
       "</div>"
      ],
      "text/plain": [
       "   OrderID        Date      Time     Category                     Product  \\\n",
       "1     1004  2025-03-02  09:12:33  Electronics            Wireless Earbuds   \n",
       "2     1005  2025-03-02  11:30:15     Clothing             Smartwatch Band   \n",
       "3     1006  2025-03-03  13:20:44        Books  Data Science for Beginners   \n",
       "4     1007  2025-03-03  14:55:21  Electronics            Portable Charger   \n",
       "5     1008  2025-03-04  10:08:11     Clothing          Programmer T-Shirt   \n",
       "6     1009  2025-03-04  12:15:30  Electronics           Smart Home Camera   \n",
       "7     1010  2025-03-05  08:44:17        Books      Machine Learning Guide   \n",
       "8     1011  2025-03-05  17:33:59     Clothing       Hoodie - Tech Edition   \n",
       "9     1012  2025-03-06  19:20:01  Electronics           Bluetooth Speaker   \n",
       "\n",
       "   Quantity  UnitPrice  TotalPrice CustomerRegion PaymentMethod  \\\n",
       "1         2      79.99      159.98          South        PayPal   \n",
       "2         1      29.99       29.99          North   Credit Card   \n",
       "3         1      54.99       54.99           East     Gift Card   \n",
       "4         1      39.99       39.99           West        PayPal   \n",
       "5         2      24.99       49.98        Central   Credit Card   \n",
       "6         1     129.99      129.99          South    Debit Card   \n",
       "7         1      69.99       69.99          North        PayPal   \n",
       "8         1      59.99       59.99           West     Gift Card   \n",
       "9         1      89.99       89.99           East   Credit Card   \n",
       "\n",
       "   SatisfactionRating  \n",
       "1                   4  \n",
       "2                   3  \n",
       "3                   5  \n",
       "4                   4  \n",
       "5                   5  \n",
       "6                   4  \n",
       "7                   5  \n",
       "8                   4  \n",
       "9                   3  "
      ]
     },
     "execution_count": 9,
     "metadata": {},
     "output_type": "execute_result"
    }
   ],
   "source": [
    "df.tail(9)"
   ]
  },
  {
   "cell_type": "code",
   "execution_count": 7,
   "id": "b224e430",
   "metadata": {},
   "outputs": [
    {
     "data": {
      "text/html": [
       "<div>\n",
       "<style scoped>\n",
       "    .dataframe tbody tr th:only-of-type {\n",
       "        vertical-align: middle;\n",
       "    }\n",
       "\n",
       "    .dataframe tbody tr th {\n",
       "        vertical-align: top;\n",
       "    }\n",
       "\n",
       "    .dataframe thead th {\n",
       "        text-align: right;\n",
       "    }\n",
       "</style>\n",
       "<table border=\"1\" class=\"dataframe\">\n",
       "  <thead>\n",
       "    <tr style=\"text-align: right;\">\n",
       "      <th></th>\n",
       "      <th>OrderID</th>\n",
       "      <th>Date</th>\n",
       "      <th>Time</th>\n",
       "      <th>Category</th>\n",
       "      <th>Product</th>\n",
       "      <th>Quantity</th>\n",
       "      <th>UnitPrice</th>\n",
       "      <th>TotalPrice</th>\n",
       "      <th>CustomerRegion</th>\n",
       "      <th>PaymentMethod</th>\n",
       "      <th>SatisfactionRating</th>\n",
       "    </tr>\n",
       "  </thead>\n",
       "  <tbody>\n",
       "    <tr>\n",
       "      <th>0</th>\n",
       "      <td>1003</td>\n",
       "      <td>2025-03-01</td>\n",
       "      <td>16:45:08</td>\n",
       "      <td>Books</td>\n",
       "      <td>Web Development with Django</td>\n",
       "      <td>1</td>\n",
       "      <td>44.99</td>\n",
       "      <td>44.99</td>\n",
       "      <td>Central</td>\n",
       "      <td>Debit Card</td>\n",
       "      <td>5</td>\n",
       "    </tr>\n",
       "    <tr>\n",
       "      <th>1</th>\n",
       "      <td>1004</td>\n",
       "      <td>2025-03-02</td>\n",
       "      <td>09:12:33</td>\n",
       "      <td>Electronics</td>\n",
       "      <td>Wireless Earbuds</td>\n",
       "      <td>2</td>\n",
       "      <td>79.99</td>\n",
       "      <td>159.98</td>\n",
       "      <td>South</td>\n",
       "      <td>PayPal</td>\n",
       "      <td>4</td>\n",
       "    </tr>\n",
       "    <tr>\n",
       "      <th>2</th>\n",
       "      <td>1005</td>\n",
       "      <td>2025-03-02</td>\n",
       "      <td>11:30:15</td>\n",
       "      <td>Clothing</td>\n",
       "      <td>Smartwatch Band</td>\n",
       "      <td>1</td>\n",
       "      <td>29.99</td>\n",
       "      <td>29.99</td>\n",
       "      <td>North</td>\n",
       "      <td>Credit Card</td>\n",
       "      <td>3</td>\n",
       "    </tr>\n",
       "    <tr>\n",
       "      <th>3</th>\n",
       "      <td>1006</td>\n",
       "      <td>2025-03-03</td>\n",
       "      <td>13:20:44</td>\n",
       "      <td>Books</td>\n",
       "      <td>Data Science for Beginners</td>\n",
       "      <td>1</td>\n",
       "      <td>54.99</td>\n",
       "      <td>54.99</td>\n",
       "      <td>East</td>\n",
       "      <td>Gift Card</td>\n",
       "      <td>5</td>\n",
       "    </tr>\n",
       "    <tr>\n",
       "      <th>4</th>\n",
       "      <td>1007</td>\n",
       "      <td>2025-03-03</td>\n",
       "      <td>14:55:21</td>\n",
       "      <td>Electronics</td>\n",
       "      <td>Portable Charger</td>\n",
       "      <td>1</td>\n",
       "      <td>39.99</td>\n",
       "      <td>39.99</td>\n",
       "      <td>West</td>\n",
       "      <td>PayPal</td>\n",
       "      <td>4</td>\n",
       "    </tr>\n",
       "    <tr>\n",
       "      <th>5</th>\n",
       "      <td>1008</td>\n",
       "      <td>2025-03-04</td>\n",
       "      <td>10:08:11</td>\n",
       "      <td>Clothing</td>\n",
       "      <td>Programmer T-Shirt</td>\n",
       "      <td>2</td>\n",
       "      <td>24.99</td>\n",
       "      <td>49.98</td>\n",
       "      <td>Central</td>\n",
       "      <td>Credit Card</td>\n",
       "      <td>5</td>\n",
       "    </tr>\n",
       "    <tr>\n",
       "      <th>6</th>\n",
       "      <td>1009</td>\n",
       "      <td>2025-03-04</td>\n",
       "      <td>12:15:30</td>\n",
       "      <td>Electronics</td>\n",
       "      <td>Smart Home Camera</td>\n",
       "      <td>1</td>\n",
       "      <td>129.99</td>\n",
       "      <td>129.99</td>\n",
       "      <td>South</td>\n",
       "      <td>Debit Card</td>\n",
       "      <td>4</td>\n",
       "    </tr>\n",
       "    <tr>\n",
       "      <th>7</th>\n",
       "      <td>1010</td>\n",
       "      <td>2025-03-05</td>\n",
       "      <td>08:44:17</td>\n",
       "      <td>Books</td>\n",
       "      <td>Machine Learning Guide</td>\n",
       "      <td>1</td>\n",
       "      <td>69.99</td>\n",
       "      <td>69.99</td>\n",
       "      <td>North</td>\n",
       "      <td>PayPal</td>\n",
       "      <td>5</td>\n",
       "    </tr>\n",
       "    <tr>\n",
       "      <th>8</th>\n",
       "      <td>1011</td>\n",
       "      <td>2025-03-05</td>\n",
       "      <td>17:33:59</td>\n",
       "      <td>Clothing</td>\n",
       "      <td>Hoodie - Tech Edition</td>\n",
       "      <td>1</td>\n",
       "      <td>59.99</td>\n",
       "      <td>59.99</td>\n",
       "      <td>West</td>\n",
       "      <td>Gift Card</td>\n",
       "      <td>4</td>\n",
       "    </tr>\n",
       "  </tbody>\n",
       "</table>\n",
       "</div>"
      ],
      "text/plain": [
       "   OrderID        Date      Time     Category                      Product  \\\n",
       "0     1003  2025-03-01  16:45:08        Books  Web Development with Django   \n",
       "1     1004  2025-03-02  09:12:33  Electronics             Wireless Earbuds   \n",
       "2     1005  2025-03-02  11:30:15     Clothing              Smartwatch Band   \n",
       "3     1006  2025-03-03  13:20:44        Books   Data Science for Beginners   \n",
       "4     1007  2025-03-03  14:55:21  Electronics             Portable Charger   \n",
       "5     1008  2025-03-04  10:08:11     Clothing           Programmer T-Shirt   \n",
       "6     1009  2025-03-04  12:15:30  Electronics            Smart Home Camera   \n",
       "7     1010  2025-03-05  08:44:17        Books       Machine Learning Guide   \n",
       "8     1011  2025-03-05  17:33:59     Clothing        Hoodie - Tech Edition   \n",
       "\n",
       "   Quantity  UnitPrice  TotalPrice CustomerRegion PaymentMethod  \\\n",
       "0         1      44.99       44.99        Central    Debit Card   \n",
       "1         2      79.99      159.98          South        PayPal   \n",
       "2         1      29.99       29.99          North   Credit Card   \n",
       "3         1      54.99       54.99           East     Gift Card   \n",
       "4         1      39.99       39.99           West        PayPal   \n",
       "5         2      24.99       49.98        Central   Credit Card   \n",
       "6         1     129.99      129.99          South    Debit Card   \n",
       "7         1      69.99       69.99          North        PayPal   \n",
       "8         1      59.99       59.99           West     Gift Card   \n",
       "\n",
       "   SatisfactionRating  \n",
       "0                   5  \n",
       "1                   4  \n",
       "2                   3  \n",
       "3                   5  \n",
       "4                   4  \n",
       "5                   5  \n",
       "6                   4  \n",
       "7                   5  \n",
       "8                   4  "
      ]
     },
     "execution_count": 7,
     "metadata": {},
     "output_type": "execute_result"
    }
   ],
   "source": [
    "df.head(9)"
   ]
  },
  {
   "cell_type": "code",
   "execution_count": 14,
   "id": "7a8955ea",
   "metadata": {},
   "outputs": [
    {
     "name": "stdout",
     "output_type": "stream",
     "text": [
      "<class 'pandas.core.frame.DataFrame'>\n",
      "RangeIndex: 10 entries, 0 to 9\n",
      "Data columns (total 11 columns):\n",
      " #   Column              Non-Null Count  Dtype  \n",
      "---  ------              --------------  -----  \n",
      " 0   OrderID             10 non-null     int64  \n",
      " 1   Date                10 non-null     object \n",
      " 2   Time                10 non-null     object \n",
      " 3   Category            10 non-null     object \n",
      " 4   Product             10 non-null     object \n",
      " 5   Quantity            10 non-null     int64  \n",
      " 6   UnitPrice           10 non-null     float64\n",
      " 7   TotalPrice          10 non-null     float64\n",
      " 8   CustomerRegion      10 non-null     object \n",
      " 9   PaymentMethod       10 non-null     object \n",
      " 10  SatisfactionRating  10 non-null     int64  \n",
      "dtypes: float64(2), int64(3), object(6)\n",
      "memory usage: 1012.0+ bytes\n"
     ]
    }
   ],
   "source": [
    "df.info()"
   ]
  },
  {
   "cell_type": "code",
   "execution_count": 13,
   "id": "7849b7d8",
   "metadata": {},
   "outputs": [
    {
     "data": {
      "text/html": [
       "<div>\n",
       "<style scoped>\n",
       "    .dataframe tbody tr th:only-of-type {\n",
       "        vertical-align: middle;\n",
       "    }\n",
       "\n",
       "    .dataframe tbody tr th {\n",
       "        vertical-align: top;\n",
       "    }\n",
       "\n",
       "    .dataframe thead th {\n",
       "        text-align: right;\n",
       "    }\n",
       "</style>\n",
       "<table border=\"1\" class=\"dataframe\">\n",
       "  <thead>\n",
       "    <tr style=\"text-align: right;\">\n",
       "      <th></th>\n",
       "      <th>OrderID</th>\n",
       "      <th>Quantity</th>\n",
       "      <th>UnitPrice</th>\n",
       "      <th>TotalPrice</th>\n",
       "      <th>SatisfactionRating</th>\n",
       "    </tr>\n",
       "  </thead>\n",
       "  <tbody>\n",
       "    <tr>\n",
       "      <th>count</th>\n",
       "      <td>10.00000</td>\n",
       "      <td>10.000000</td>\n",
       "      <td>10.000000</td>\n",
       "      <td>10.000000</td>\n",
       "      <td>10.000000</td>\n",
       "    </tr>\n",
       "    <tr>\n",
       "      <th>mean</th>\n",
       "      <td>1007.50000</td>\n",
       "      <td>1.200000</td>\n",
       "      <td>62.490000</td>\n",
       "      <td>72.988000</td>\n",
       "      <td>4.200000</td>\n",
       "    </tr>\n",
       "    <tr>\n",
       "      <th>std</th>\n",
       "      <td>3.02765</td>\n",
       "      <td>0.421637</td>\n",
       "      <td>31.644729</td>\n",
       "      <td>41.977137</td>\n",
       "      <td>0.788811</td>\n",
       "    </tr>\n",
       "    <tr>\n",
       "      <th>min</th>\n",
       "      <td>1003.00000</td>\n",
       "      <td>1.000000</td>\n",
       "      <td>24.990000</td>\n",
       "      <td>29.990000</td>\n",
       "      <td>3.000000</td>\n",
       "    </tr>\n",
       "    <tr>\n",
       "      <th>25%</th>\n",
       "      <td>1005.25000</td>\n",
       "      <td>1.000000</td>\n",
       "      <td>41.240000</td>\n",
       "      <td>46.237500</td>\n",
       "      <td>4.000000</td>\n",
       "    </tr>\n",
       "    <tr>\n",
       "      <th>50%</th>\n",
       "      <td>1007.50000</td>\n",
       "      <td>1.000000</td>\n",
       "      <td>57.490000</td>\n",
       "      <td>57.490000</td>\n",
       "      <td>4.000000</td>\n",
       "    </tr>\n",
       "    <tr>\n",
       "      <th>75%</th>\n",
       "      <td>1009.75000</td>\n",
       "      <td>1.000000</td>\n",
       "      <td>77.490000</td>\n",
       "      <td>84.990000</td>\n",
       "      <td>5.000000</td>\n",
       "    </tr>\n",
       "    <tr>\n",
       "      <th>max</th>\n",
       "      <td>1012.00000</td>\n",
       "      <td>2.000000</td>\n",
       "      <td>129.990000</td>\n",
       "      <td>159.980000</td>\n",
       "      <td>5.000000</td>\n",
       "    </tr>\n",
       "  </tbody>\n",
       "</table>\n",
       "</div>"
      ],
      "text/plain": [
       "          OrderID   Quantity   UnitPrice  TotalPrice  SatisfactionRating\n",
       "count    10.00000  10.000000   10.000000   10.000000           10.000000\n",
       "mean   1007.50000   1.200000   62.490000   72.988000            4.200000\n",
       "std       3.02765   0.421637   31.644729   41.977137            0.788811\n",
       "min    1003.00000   1.000000   24.990000   29.990000            3.000000\n",
       "25%    1005.25000   1.000000   41.240000   46.237500            4.000000\n",
       "50%    1007.50000   1.000000   57.490000   57.490000            4.000000\n",
       "75%    1009.75000   1.000000   77.490000   84.990000            5.000000\n",
       "max    1012.00000   2.000000  129.990000  159.980000            5.000000"
      ]
     },
     "execution_count": 13,
     "metadata": {},
     "output_type": "execute_result"
    }
   ],
   "source": [
    "df.describe()"
   ]
  },
  {
   "cell_type": "code",
   "execution_count": 15,
   "id": "96952f88",
   "metadata": {},
   "outputs": [
    {
     "data": {
      "text/html": [
       "<div>\n",
       "<style scoped>\n",
       "    .dataframe tbody tr th:only-of-type {\n",
       "        vertical-align: middle;\n",
       "    }\n",
       "\n",
       "    .dataframe tbody tr th {\n",
       "        vertical-align: top;\n",
       "    }\n",
       "\n",
       "    .dataframe thead th {\n",
       "        text-align: right;\n",
       "    }\n",
       "</style>\n",
       "<table border=\"1\" class=\"dataframe\">\n",
       "  <thead>\n",
       "    <tr style=\"text-align: right;\">\n",
       "      <th></th>\n",
       "      <th>OrderID</th>\n",
       "      <th>Date</th>\n",
       "      <th>Time</th>\n",
       "      <th>Category</th>\n",
       "      <th>Product</th>\n",
       "      <th>Quantity</th>\n",
       "      <th>UnitPrice</th>\n",
       "      <th>TotalPrice</th>\n",
       "      <th>CustomerRegion</th>\n",
       "      <th>PaymentMethod</th>\n",
       "      <th>SatisfactionRating</th>\n",
       "    </tr>\n",
       "  </thead>\n",
       "  <tbody>\n",
       "    <tr>\n",
       "      <th>0</th>\n",
       "      <td>False</td>\n",
       "      <td>False</td>\n",
       "      <td>False</td>\n",
       "      <td>False</td>\n",
       "      <td>False</td>\n",
       "      <td>False</td>\n",
       "      <td>False</td>\n",
       "      <td>False</td>\n",
       "      <td>False</td>\n",
       "      <td>False</td>\n",
       "      <td>False</td>\n",
       "    </tr>\n",
       "    <tr>\n",
       "      <th>1</th>\n",
       "      <td>False</td>\n",
       "      <td>False</td>\n",
       "      <td>False</td>\n",
       "      <td>False</td>\n",
       "      <td>False</td>\n",
       "      <td>False</td>\n",
       "      <td>False</td>\n",
       "      <td>False</td>\n",
       "      <td>False</td>\n",
       "      <td>False</td>\n",
       "      <td>False</td>\n",
       "    </tr>\n",
       "    <tr>\n",
       "      <th>2</th>\n",
       "      <td>False</td>\n",
       "      <td>False</td>\n",
       "      <td>False</td>\n",
       "      <td>False</td>\n",
       "      <td>False</td>\n",
       "      <td>False</td>\n",
       "      <td>False</td>\n",
       "      <td>False</td>\n",
       "      <td>False</td>\n",
       "      <td>False</td>\n",
       "      <td>False</td>\n",
       "    </tr>\n",
       "    <tr>\n",
       "      <th>3</th>\n",
       "      <td>False</td>\n",
       "      <td>False</td>\n",
       "      <td>False</td>\n",
       "      <td>False</td>\n",
       "      <td>False</td>\n",
       "      <td>False</td>\n",
       "      <td>False</td>\n",
       "      <td>False</td>\n",
       "      <td>False</td>\n",
       "      <td>False</td>\n",
       "      <td>False</td>\n",
       "    </tr>\n",
       "    <tr>\n",
       "      <th>4</th>\n",
       "      <td>False</td>\n",
       "      <td>False</td>\n",
       "      <td>False</td>\n",
       "      <td>False</td>\n",
       "      <td>False</td>\n",
       "      <td>False</td>\n",
       "      <td>False</td>\n",
       "      <td>False</td>\n",
       "      <td>False</td>\n",
       "      <td>False</td>\n",
       "      <td>False</td>\n",
       "    </tr>\n",
       "    <tr>\n",
       "      <th>5</th>\n",
       "      <td>False</td>\n",
       "      <td>False</td>\n",
       "      <td>False</td>\n",
       "      <td>False</td>\n",
       "      <td>False</td>\n",
       "      <td>False</td>\n",
       "      <td>False</td>\n",
       "      <td>False</td>\n",
       "      <td>False</td>\n",
       "      <td>False</td>\n",
       "      <td>False</td>\n",
       "    </tr>\n",
       "    <tr>\n",
       "      <th>6</th>\n",
       "      <td>False</td>\n",
       "      <td>False</td>\n",
       "      <td>False</td>\n",
       "      <td>False</td>\n",
       "      <td>False</td>\n",
       "      <td>False</td>\n",
       "      <td>False</td>\n",
       "      <td>False</td>\n",
       "      <td>False</td>\n",
       "      <td>False</td>\n",
       "      <td>False</td>\n",
       "    </tr>\n",
       "    <tr>\n",
       "      <th>7</th>\n",
       "      <td>False</td>\n",
       "      <td>False</td>\n",
       "      <td>False</td>\n",
       "      <td>False</td>\n",
       "      <td>False</td>\n",
       "      <td>False</td>\n",
       "      <td>False</td>\n",
       "      <td>False</td>\n",
       "      <td>False</td>\n",
       "      <td>False</td>\n",
       "      <td>False</td>\n",
       "    </tr>\n",
       "    <tr>\n",
       "      <th>8</th>\n",
       "      <td>False</td>\n",
       "      <td>False</td>\n",
       "      <td>False</td>\n",
       "      <td>False</td>\n",
       "      <td>False</td>\n",
       "      <td>False</td>\n",
       "      <td>False</td>\n",
       "      <td>False</td>\n",
       "      <td>False</td>\n",
       "      <td>False</td>\n",
       "      <td>False</td>\n",
       "    </tr>\n",
       "    <tr>\n",
       "      <th>9</th>\n",
       "      <td>False</td>\n",
       "      <td>False</td>\n",
       "      <td>False</td>\n",
       "      <td>False</td>\n",
       "      <td>False</td>\n",
       "      <td>False</td>\n",
       "      <td>False</td>\n",
       "      <td>False</td>\n",
       "      <td>False</td>\n",
       "      <td>False</td>\n",
       "      <td>False</td>\n",
       "    </tr>\n",
       "  </tbody>\n",
       "</table>\n",
       "</div>"
      ],
      "text/plain": [
       "   OrderID   Date   Time  Category  Product  Quantity  UnitPrice  TotalPrice  \\\n",
       "0    False  False  False     False    False     False      False       False   \n",
       "1    False  False  False     False    False     False      False       False   \n",
       "2    False  False  False     False    False     False      False       False   \n",
       "3    False  False  False     False    False     False      False       False   \n",
       "4    False  False  False     False    False     False      False       False   \n",
       "5    False  False  False     False    False     False      False       False   \n",
       "6    False  False  False     False    False     False      False       False   \n",
       "7    False  False  False     False    False     False      False       False   \n",
       "8    False  False  False     False    False     False      False       False   \n",
       "9    False  False  False     False    False     False      False       False   \n",
       "\n",
       "   CustomerRegion  PaymentMethod  SatisfactionRating  \n",
       "0           False          False               False  \n",
       "1           False          False               False  \n",
       "2           False          False               False  \n",
       "3           False          False               False  \n",
       "4           False          False               False  \n",
       "5           False          False               False  \n",
       "6           False          False               False  \n",
       "7           False          False               False  \n",
       "8           False          False               False  \n",
       "9           False          False               False  "
      ]
     },
     "execution_count": 15,
     "metadata": {},
     "output_type": "execute_result"
    }
   ],
   "source": [
    "df.isnull()"
   ]
  },
  {
   "cell_type": "code",
   "execution_count": 16,
   "id": "bc775220",
   "metadata": {},
   "outputs": [
    {
     "data": {
      "text/plain": [
       "OrderID               0\n",
       "Date                  0\n",
       "Time                  0\n",
       "Category              0\n",
       "Product               0\n",
       "Quantity              0\n",
       "UnitPrice             0\n",
       "TotalPrice            0\n",
       "CustomerRegion        0\n",
       "PaymentMethod         0\n",
       "SatisfactionRating    0\n",
       "dtype: int64"
      ]
     },
     "execution_count": 16,
     "metadata": {},
     "output_type": "execute_result"
    }
   ],
   "source": [
    "df.isnull().sum()"
   ]
  },
  {
   "cell_type": "code",
   "execution_count": null,
   "id": "75cb683d",
   "metadata": {},
   "outputs": [],
   "source": [
    "#df.fillna(8)"
   ]
  },
  {
   "cell_type": "code",
   "execution_count": 19,
   "id": "3079ac32",
   "metadata": {},
   "outputs": [
    {
     "data": {
      "text/plain": [
       "OrderID                 int64\n",
       "Date                   object\n",
       "Time                   object\n",
       "Category               object\n",
       "Product                object\n",
       "Quantity                int64\n",
       "UnitPrice             float64\n",
       "TotalPrice            float64\n",
       "CustomerRegion         object\n",
       "PaymentMethod          object\n",
       "SatisfactionRating      int64\n",
       "dtype: object"
      ]
     },
     "execution_count": 19,
     "metadata": {},
     "output_type": "execute_result"
    }
   ],
   "source": [
    "df.dtypes"
   ]
  },
  {
   "cell_type": "code",
   "execution_count": 20,
   "id": "1c157583",
   "metadata": {},
   "outputs": [
    {
     "data": {
      "text/html": [
       "<div>\n",
       "<style scoped>\n",
       "    .dataframe tbody tr th:only-of-type {\n",
       "        vertical-align: middle;\n",
       "    }\n",
       "\n",
       "    .dataframe tbody tr th {\n",
       "        vertical-align: top;\n",
       "    }\n",
       "\n",
       "    .dataframe thead th {\n",
       "        text-align: right;\n",
       "    }\n",
       "</style>\n",
       "<table border=\"1\" class=\"dataframe\">\n",
       "  <thead>\n",
       "    <tr style=\"text-align: right;\">\n",
       "      <th></th>\n",
       "      <th>OrderID</th>\n",
       "      <th>Date</th>\n",
       "      <th>Time</th>\n",
       "      <th>Category</th>\n",
       "      <th>Product</th>\n",
       "      <th>Quantity</th>\n",
       "      <th>UnitPrice</th>\n",
       "      <th>TotalPrice</th>\n",
       "      <th>CustomerRegion</th>\n",
       "      <th>PaymentMethod</th>\n",
       "      <th>Rating</th>\n",
       "    </tr>\n",
       "  </thead>\n",
       "  <tbody>\n",
       "    <tr>\n",
       "      <th>0</th>\n",
       "      <td>1003</td>\n",
       "      <td>2025-03-01</td>\n",
       "      <td>16:45:08</td>\n",
       "      <td>Books</td>\n",
       "      <td>Web Development with Django</td>\n",
       "      <td>1</td>\n",
       "      <td>44.99</td>\n",
       "      <td>44.99</td>\n",
       "      <td>Central</td>\n",
       "      <td>Debit Card</td>\n",
       "      <td>5</td>\n",
       "    </tr>\n",
       "    <tr>\n",
       "      <th>1</th>\n",
       "      <td>1004</td>\n",
       "      <td>2025-03-02</td>\n",
       "      <td>09:12:33</td>\n",
       "      <td>Electronics</td>\n",
       "      <td>Wireless Earbuds</td>\n",
       "      <td>2</td>\n",
       "      <td>79.99</td>\n",
       "      <td>159.98</td>\n",
       "      <td>South</td>\n",
       "      <td>PayPal</td>\n",
       "      <td>4</td>\n",
       "    </tr>\n",
       "    <tr>\n",
       "      <th>2</th>\n",
       "      <td>1005</td>\n",
       "      <td>2025-03-02</td>\n",
       "      <td>11:30:15</td>\n",
       "      <td>Clothing</td>\n",
       "      <td>Smartwatch Band</td>\n",
       "      <td>1</td>\n",
       "      <td>29.99</td>\n",
       "      <td>29.99</td>\n",
       "      <td>North</td>\n",
       "      <td>Credit Card</td>\n",
       "      <td>3</td>\n",
       "    </tr>\n",
       "    <tr>\n",
       "      <th>3</th>\n",
       "      <td>1006</td>\n",
       "      <td>2025-03-03</td>\n",
       "      <td>13:20:44</td>\n",
       "      <td>Books</td>\n",
       "      <td>Data Science for Beginners</td>\n",
       "      <td>1</td>\n",
       "      <td>54.99</td>\n",
       "      <td>54.99</td>\n",
       "      <td>East</td>\n",
       "      <td>Gift Card</td>\n",
       "      <td>5</td>\n",
       "    </tr>\n",
       "    <tr>\n",
       "      <th>4</th>\n",
       "      <td>1007</td>\n",
       "      <td>2025-03-03</td>\n",
       "      <td>14:55:21</td>\n",
       "      <td>Electronics</td>\n",
       "      <td>Portable Charger</td>\n",
       "      <td>1</td>\n",
       "      <td>39.99</td>\n",
       "      <td>39.99</td>\n",
       "      <td>West</td>\n",
       "      <td>PayPal</td>\n",
       "      <td>4</td>\n",
       "    </tr>\n",
       "    <tr>\n",
       "      <th>5</th>\n",
       "      <td>1008</td>\n",
       "      <td>2025-03-04</td>\n",
       "      <td>10:08:11</td>\n",
       "      <td>Clothing</td>\n",
       "      <td>Programmer T-Shirt</td>\n",
       "      <td>2</td>\n",
       "      <td>24.99</td>\n",
       "      <td>49.98</td>\n",
       "      <td>Central</td>\n",
       "      <td>Credit Card</td>\n",
       "      <td>5</td>\n",
       "    </tr>\n",
       "    <tr>\n",
       "      <th>6</th>\n",
       "      <td>1009</td>\n",
       "      <td>2025-03-04</td>\n",
       "      <td>12:15:30</td>\n",
       "      <td>Electronics</td>\n",
       "      <td>Smart Home Camera</td>\n",
       "      <td>1</td>\n",
       "      <td>129.99</td>\n",
       "      <td>129.99</td>\n",
       "      <td>South</td>\n",
       "      <td>Debit Card</td>\n",
       "      <td>4</td>\n",
       "    </tr>\n",
       "    <tr>\n",
       "      <th>7</th>\n",
       "      <td>1010</td>\n",
       "      <td>2025-03-05</td>\n",
       "      <td>08:44:17</td>\n",
       "      <td>Books</td>\n",
       "      <td>Machine Learning Guide</td>\n",
       "      <td>1</td>\n",
       "      <td>69.99</td>\n",
       "      <td>69.99</td>\n",
       "      <td>North</td>\n",
       "      <td>PayPal</td>\n",
       "      <td>5</td>\n",
       "    </tr>\n",
       "    <tr>\n",
       "      <th>8</th>\n",
       "      <td>1011</td>\n",
       "      <td>2025-03-05</td>\n",
       "      <td>17:33:59</td>\n",
       "      <td>Clothing</td>\n",
       "      <td>Hoodie - Tech Edition</td>\n",
       "      <td>1</td>\n",
       "      <td>59.99</td>\n",
       "      <td>59.99</td>\n",
       "      <td>West</td>\n",
       "      <td>Gift Card</td>\n",
       "      <td>4</td>\n",
       "    </tr>\n",
       "    <tr>\n",
       "      <th>9</th>\n",
       "      <td>1012</td>\n",
       "      <td>2025-03-06</td>\n",
       "      <td>19:20:01</td>\n",
       "      <td>Electronics</td>\n",
       "      <td>Bluetooth Speaker</td>\n",
       "      <td>1</td>\n",
       "      <td>89.99</td>\n",
       "      <td>89.99</td>\n",
       "      <td>East</td>\n",
       "      <td>Credit Card</td>\n",
       "      <td>3</td>\n",
       "    </tr>\n",
       "  </tbody>\n",
       "</table>\n",
       "</div>"
      ],
      "text/plain": [
       "   OrderID        Date      Time     Category                      Product  \\\n",
       "0     1003  2025-03-01  16:45:08        Books  Web Development with Django   \n",
       "1     1004  2025-03-02  09:12:33  Electronics             Wireless Earbuds   \n",
       "2     1005  2025-03-02  11:30:15     Clothing              Smartwatch Band   \n",
       "3     1006  2025-03-03  13:20:44        Books   Data Science for Beginners   \n",
       "4     1007  2025-03-03  14:55:21  Electronics             Portable Charger   \n",
       "5     1008  2025-03-04  10:08:11     Clothing           Programmer T-Shirt   \n",
       "6     1009  2025-03-04  12:15:30  Electronics            Smart Home Camera   \n",
       "7     1010  2025-03-05  08:44:17        Books       Machine Learning Guide   \n",
       "8     1011  2025-03-05  17:33:59     Clothing        Hoodie - Tech Edition   \n",
       "9     1012  2025-03-06  19:20:01  Electronics            Bluetooth Speaker   \n",
       "\n",
       "   Quantity  UnitPrice  TotalPrice CustomerRegion PaymentMethod  Rating  \n",
       "0         1      44.99       44.99        Central    Debit Card       5  \n",
       "1         2      79.99      159.98          South        PayPal       4  \n",
       "2         1      29.99       29.99          North   Credit Card       3  \n",
       "3         1      54.99       54.99           East     Gift Card       5  \n",
       "4         1      39.99       39.99           West        PayPal       4  \n",
       "5         2      24.99       49.98        Central   Credit Card       5  \n",
       "6         1     129.99      129.99          South    Debit Card       4  \n",
       "7         1      69.99       69.99          North        PayPal       5  \n",
       "8         1      59.99       59.99           West     Gift Card       4  \n",
       "9         1      89.99       89.99           East   Credit Card       3  "
      ]
     },
     "execution_count": 20,
     "metadata": {},
     "output_type": "execute_result"
    }
   ],
   "source": [
    "df.rename(columns={\"SatisfactionRating\":\"Rating\"})"
   ]
  },
  {
   "cell_type": "code",
   "execution_count": 29,
   "id": "f9c97a52",
   "metadata": {},
   "outputs": [],
   "source": [
    "df['DoubledRevenue'] = df['TotalPrice'].apply(lambda x: x * 2)"
   ]
  },
  {
   "cell_type": "code",
   "execution_count": 36,
   "id": "47c3196f",
   "metadata": {},
   "outputs": [
    {
     "data": {
      "text/plain": [
       "0     89.98\n",
       "1    319.96\n",
       "2     59.98\n",
       "3    109.98\n",
       "4     79.98\n",
       "5     99.96\n",
       "6    259.98\n",
       "7    139.98\n",
       "8    119.98\n",
       "9    179.98\n",
       "Name: DoubledRevenue, dtype: float64"
      ]
     },
     "execution_count": 36,
     "metadata": {},
     "output_type": "execute_result"
    }
   ],
   "source": [
    "df['DoubledRevenue']"
   ]
  },
  {
   "cell_type": "code",
   "execution_count": 37,
   "id": "1b0ef95b",
   "metadata": {},
   "outputs": [
    {
     "data": {
      "text/plain": [
       "array(['16:45:08', '09:12:33', '11:30:15', '13:20:44', '14:55:21',\n",
       "       '10:08:11', '12:15:30', '08:44:17', '17:33:59', '19:20:01'],\n",
       "      dtype=object)"
      ]
     },
     "execution_count": 37,
     "metadata": {},
     "output_type": "execute_result"
    }
   ],
   "source": [
    "df['Time'].unique()"
   ]
  },
  {
   "cell_type": "code",
   "execution_count": 38,
   "id": "9ea0fb54",
   "metadata": {},
   "outputs": [
    {
     "data": {
      "text/plain": [
       "array(['Books', 'Electronics', 'Clothing'], dtype=object)"
      ]
     },
     "execution_count": 38,
     "metadata": {},
     "output_type": "execute_result"
    }
   ],
   "source": [
    "df['Category'].unique()"
   ]
  },
  {
   "cell_type": "code",
   "execution_count": 40,
   "id": "6fb256ec",
   "metadata": {},
   "outputs": [],
   "source": [
    "mean_Price = df[\"mean_data\"] = df.groupby('Category')['TotalPrice'].mean()"
   ]
  },
  {
   "cell_type": "code",
   "execution_count": 41,
   "id": "644636bf",
   "metadata": {},
   "outputs": [
    {
     "data": {
      "text/plain": [
       "Category\n",
       "Books           56.656667\n",
       "Clothing        46.653333\n",
       "Electronics    104.987500\n",
       "Name: TotalPrice, dtype: float64"
      ]
     },
     "execution_count": 41,
     "metadata": {},
     "output_type": "execute_result"
    }
   ],
   "source": [
    "mean_Price"
   ]
  }
 ],
 "metadata": {
  "kernelspec": {
   "display_name": "venv",
   "language": "python",
   "name": "python3"
  },
  "language_info": {
   "codemirror_mode": {
    "name": "ipython",
    "version": 3
   },
   "file_extension": ".py",
   "mimetype": "text/x-python",
   "name": "python",
   "nbconvert_exporter": "python",
   "pygments_lexer": "ipython3",
   "version": "3.13.0"
  }
 },
 "nbformat": 4,
 "nbformat_minor": 5
}
